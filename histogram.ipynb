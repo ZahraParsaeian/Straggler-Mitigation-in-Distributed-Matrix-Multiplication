{
 "cells": [
  {
   "cell_type": "code",
   "execution_count": 2,
   "metadata": {},
   "outputs": [],
   "source": [
    "from collections import Counter\n",
    "import numpy as np\n",
    "import matplotlib.pyplot as plt\n",
    "import random\n",
    "import pandas as pd\n",
    "from scipy import stats\n",
    "import seaborn as sns"
   ]
  },
  {
   "cell_type": "code",
   "execution_count": 3,
   "metadata": {},
   "outputs": [],
   "source": [
    "a = []\n",
    "delimiter = \" \"\n",
    "with open('time.txt') as f:  \n",
    "    for line in f:\n",
    "        time = float(line.split(delimiter)[4])\n",
    "        a.append(time)"
   ]
  },
  {
   "cell_type": "code",
   "execution_count": 4,
   "metadata": {},
   "outputs": [],
   "source": [
    "recounted = Counter(a)"
   ]
  },
  {
   "cell_type": "code",
   "execution_count": 5,
   "metadata": {},
   "outputs": [],
   "source": [
    "def ascii_histogram(seq) -> None:\n",
    "    \"\"\"A horizontal frequency-table/histogram plot.\"\"\"\n",
    "    counted = Counter(seq)\n",
    "    for k in sorted(counted):\n",
    "        print('{0:5d} {1}'.format(k, '+' * counted[k]))"
   ]
  },
  {
   "cell_type": "code",
   "execution_count": 6,
   "metadata": {},
   "outputs": [
    {
     "data": {
      "text/plain": [
       "array([347, 347, 227,  14,   4,   6,   2,   3,   5,   3])"
      ]
     },
     "execution_count": 6,
     "metadata": {},
     "output_type": "execute_result"
    }
   ],
   "source": [
    "hist, bin_edges = np.histogram(a)\n",
    "hist\n",
    "#bin_edges"
   ]
  },
  {
   "cell_type": "code",
   "execution_count": 7,
   "metadata": {},
   "outputs": [
    {
     "data": {
      "text/plain": [
       "array([343.379015, 395.787753, 448.196491, 500.605229, 553.013967,\n",
       "       605.422705, 657.831443, 710.240181, 762.648919, 815.057657,\n",
       "       867.466395])"
      ]
     },
     "execution_count": 7,
     "metadata": {},
     "output_type": "execute_result"
    }
   ],
   "source": [
    "first_edge, last_edge = min(a), max(a)\n",
    "n_equal_bins = 10\n",
    "bin_edges = np.linspace(start=first_edge, stop=last_edge,num=n_equal_bins + 1, endpoint=True)\n",
    "bin_edges"
   ]
  },
  {
   "cell_type": "code",
   "execution_count": 8,
   "metadata": {},
   "outputs": [
    {
     "data": {
      "text/plain": [
       "{343.379015: 1,\n",
       " 346.47821: 1,\n",
       " 347.453349: 1,\n",
       " 363.011429: 1,\n",
       " 364.359931: 1,\n",
       " 367.9491: 1,\n",
       " 372.083495: 1,\n",
       " 374.04172: 2,\n",
       " 374.064458: 1,\n",
       " 376.929611: 1,\n",
       " 377.342279: 3,\n",
       " 378.944189: 2,\n",
       " 378.979966: 8,\n",
       " 378.997697: 12,\n",
       " 379.327583: 35,\n",
       " 379.348251: 33,\n",
       " 380.068582: 49,\n",
       " 380.328421: 39,\n",
       " 380.416498: 35,\n",
       " 380.445268: 18,\n",
       " 380.554688: 17,\n",
       " 380.782647: 17,\n",
       " 380.841746: 16,\n",
       " 380.846223: 14,\n",
       " 381.002723: 6,\n",
       " 381.015365: 7,\n",
       " 381.254381: 12,\n",
       " 381.275141: 14,\n",
       " 381.275979: 16,\n",
       " 381.352985: 11,\n",
       " 381.408859: 2,\n",
       " 381.449181: 4,\n",
       " 381.675567: 8,\n",
       " 381.723677: 13,\n",
       " 381.768725: 11,\n",
       " 381.915709: 11,\n",
       " 382.045973: 6,\n",
       " 382.048016: 5,\n",
       " 382.185771: 1,\n",
       " 382.186726: 1,\n",
       " 382.205019: 4,\n",
       " 382.234334: 5,\n",
       " 382.23587: 3,\n",
       " 382.246245: 3,\n",
       " 382.252171: 3,\n",
       " 382.264691: 4,\n",
       " 382.289861: 3,\n",
       " 382.296115: 6,\n",
       " 382.314339: 4,\n",
       " 382.324337: 4,\n",
       " 382.40661: 8,\n",
       " 382.410295: 2,\n",
       " 382.411125: 7,\n",
       " 382.413952: 7,\n",
       " 382.439183: 10,\n",
       " 382.444729: 8,\n",
       " 382.521116: 3,\n",
       " 382.521378: 7,\n",
       " 382.561933: 6,\n",
       " 382.585741: 6,\n",
       " 382.632629: 5,\n",
       " 382.709636: 5,\n",
       " 382.729781: 10,\n",
       " 382.748814: 3,\n",
       " 382.821912: 7,\n",
       " 382.845196: 14,\n",
       " 382.879664: 11,\n",
       " 382.891879: 6,\n",
       " 382.932999: 2,\n",
       " 382.938524: 5,\n",
       " 382.962502: 7,\n",
       " 383.015907: 12,\n",
       " 383.065635: 5,\n",
       " 383.066043: 12,\n",
       " 383.13045: 2,\n",
       " 383.140156: 6,\n",
       " 383.190327: 4,\n",
       " 383.231271: 8,\n",
       " 383.232506: 15,\n",
       " 383.238802: 15,\n",
       " 383.248875: 7,\n",
       " 383.259865: 9,\n",
       " 383.348002: 10,\n",
       " 383.348569: 10,\n",
       " 383.35528: 6,\n",
       " 383.445415: 2,\n",
       " 383.485527: 7,\n",
       " 383.561541: 5,\n",
       " 383.65591: 14,\n",
       " 383.674436: 17,\n",
       " 383.70218: 6,\n",
       " 383.702291: 8,\n",
       " 383.726042: 4,\n",
       " 383.769001: 6,\n",
       " 383.770434: 6,\n",
       " 383.772073: 4,\n",
       " 383.806006: 6,\n",
       " 383.822333: 6,\n",
       " 383.840507: 8,\n",
       " 383.929553: 3,\n",
       " 383.944574: 5,\n",
       " 383.951837: 5,\n",
       " 383.971264: 3,\n",
       " 383.998065: 2,\n",
       " 384.002713: 2,\n",
       " 384.044852: 1,\n",
       " 384.050896: 1,\n",
       " 384.052353: 1,\n",
       " 384.069356: 3,\n",
       " 384.138735: 2,\n",
       " 384.151062: 4,\n",
       " 384.160767: 4,\n",
       " 384.162094: 2,\n",
       " 384.280042: 6,\n",
       " 384.296263: 6,\n",
       " 384.357122: 5,\n",
       " 384.367158: 3,\n",
       " 384.38568: 2,\n",
       " 384.415761: 1,\n",
       " 384.444961: 1,\n",
       " 384.465088: 2,\n",
       " 384.468491: 5,\n",
       " 384.497409: 3,\n",
       " 384.545677: 8,\n",
       " 384.564353: 1,\n",
       " 384.570089: 2,\n",
       " 384.575848: 2,\n",
       " 384.611454: 1,\n",
       " 384.635867: 1,\n",
       " 384.63648: 1,\n",
       " 384.649883: 2,\n",
       " 384.672786: 1,\n",
       " 384.687939: 1,\n",
       " 384.692547: 2,\n",
       " 384.703168: 4,\n",
       " 384.729845: 1,\n",
       " 384.74735: 1,\n",
       " 384.768069: 1,\n",
       " 384.790345: 2,\n",
       " 384.79076: 1,\n",
       " 384.804242: 1,\n",
       " 384.819902: 1,\n",
       " 384.826323: 1,\n",
       " 384.842406: 1,\n",
       " 384.849095: 1,\n",
       " 384.851506: 1,\n",
       " 384.868347: 1,\n",
       " 384.869363: 1,\n",
       " 384.918378: 1,\n",
       " 384.918496: 1,\n",
       " 384.933761: 1,\n",
       " 384.974738: 1,\n",
       " 384.976267: 1,\n",
       " 385.001858: 1,\n",
       " 385.012428: 1,\n",
       " 385.066657: 1,\n",
       " 385.075252: 1,\n",
       " 385.082034: 1,\n",
       " 385.127039: 1}"
      ]
     },
     "execution_count": 8,
     "metadata": {},
     "output_type": "execute_result"
    }
   ],
   "source": [
    "bcounts = np.bincount(a)\n",
    "# hist, _ = np.histogram(a, range=(0, max(a)), bins=int(max(a)) + 1)\n",
    "hist, _ = np.histogram(a, range=(0, max(a)), bins=20)\n",
    "\n",
    "dict(zip(np.unique(a), bcounts[bcounts.nonzero()]))"
   ]
  },
  {
   "cell_type": "code",
   "execution_count": 9,
   "metadata": {},
   "outputs": [
    {
     "data": {
      "text/plain": [
       "(0.0, 160.0)"
      ]
     },
     "execution_count": 9,
     "metadata": {},
     "output_type": "execute_result"
    },
    {
     "data": {
      "image/png": "[encoded data removed]",
      "text/plain": [
       "<Figure size 432x288 with 1 Axes>"
      ]
     },
     "metadata": {},
     "output_type": "display_data"
    }
   ],
   "source": [
    "# n, bins, patches = plt.hist(x=a, bins='auto', color='#0504aa', alpha=0.7, rwidth=0.85)\n",
    "n, bins, patches = plt.hist(x=a, bins=100, color='#0504aa', alpha=0.7, rwidth=0.85)\n",
    "plt.grid(axis='y', alpha=0.75)\n",
    "plt.xlabel('Value')\n",
    "plt.ylabel('Frequency')\n",
    "plt.title('My Very Own Histogram')\n",
    "plt.text(23, 45, r'$\\mu=15, b=3$')\n",
    "maxfreq = n.max()\n",
    "plt.ylim(ymax=np.ceil(maxfreq / 10) * 10 if maxfreq % 10 else maxfreq + 10)"
   ]
  },
  {
   "cell_type": "code",
   "execution_count": 10,
   "metadata": {},
   "outputs": [
    {
     "name": "stdout",
     "output_type": "stream",
     "text": [
      "Time spent for sendig msgs\n"
     ]
    }
   ],
   "source": [
    "print(\"Time spent for sendig msgs\")"
   ]
  },
  {
   "cell_type": "code",
   "execution_count": 11,
   "metadata": {},
   "outputs": [],
   "source": [
    "b = []\n",
    "delimiter = \" \"\n",
    "with open('sendig.txt') as f:  \n",
    "    for line in f:\n",
    "        time = float(line.split(delimiter)[6])\n",
    "        b.append(time)"
   ]
  },
  {
   "cell_type": "code",
   "execution_count": 12,
   "metadata": {},
   "outputs": [],
   "source": [
    "hist, bin_edges = np.histogram(b)"
   ]
  },
  {
   "cell_type": "code",
   "execution_count": 13,
   "metadata": {},
   "outputs": [
    {
     "data": {
      "text/plain": [
       "array([ 128.030483 ,  242.3362887,  356.6420944,  470.9479001,\n",
       "        585.2537058,  699.5595115,  813.8653172,  928.1711229,\n",
       "       1042.4769286, 1156.7827343, 1271.08854  ])"
      ]
     },
     "execution_count": 13,
     "metadata": {},
     "output_type": "execute_result"
    }
   ],
   "source": [
    "first_edge, last_edge = min(b), max(b)\n",
    "n_equal_bins = 10\n",
    "bin_edges = np.linspace(start=first_edge, stop=last_edge,num=n_equal_bins + 1, endpoint=True)\n",
    "bin_edges"
   ]
  },
  {
   "cell_type": "code",
   "execution_count": 14,
   "metadata": {},
   "outputs": [
    {
     "data": {
      "text/plain": [
       "{128.030483: 1,\n",
       " 136.643369: 1,\n",
       " 142.882172: 1,\n",
       " 144.945023: 1,\n",
       " 153.148465: 1,\n",
       " 157.653707: 1,\n",
       " 164.518882: 1,\n",
       " 167.112773: 1,\n",
       " 169.200244: 1,\n",
       " 171.429577: 1,\n",
       " 173.729254: 1,\n",
       " 180.441409: 1,\n",
       " 183.48508: 1,\n",
       " 186.246963: 1,\n",
       " 190.764094: 1,\n",
       " 191.674908: 2,\n",
       " 191.787701: 1,\n",
       " 192.319104: 1,\n",
       " 194.384681: 1,\n",
       " 208.346073: 1,\n",
       " 209.025403: 1,\n",
       " 211.342217: 1,\n",
       " 216.300609: 1,\n",
       " 217.310416: 1,\n",
       " 225.298698: 1,\n",
       " 230.555926: 1,\n",
       " 235.820532: 1,\n",
       " 247.461569: 1,\n",
       " 251.418114: 2,\n",
       " 274.432918: 1,\n",
       " 274.792792: 2,\n",
       " 287.972037: 1,\n",
       " 302.257122: 1,\n",
       " 302.377918: 1,\n",
       " 303.528048: 1,\n",
       " 305.942791: 1,\n",
       " 309.365695: 1,\n",
       " 322.948234: 1,\n",
       " 323.469312: 1,\n",
       " 369.852606: 1,\n",
       " 388.2028: 1,\n",
       " 408.271667: 1,\n",
       " 418.118762: 1,\n",
       " 437.282153: 1,\n",
       " 441.324048: 1,\n",
       " 508.406697: 1,\n",
       " 518.158064: 1,\n",
       " 547.747353: 1,\n",
       " 598.422805: 1,\n",
       " 607.253222: 1,\n",
       " 623.510682: 1}"
      ]
     },
     "execution_count": 14,
     "metadata": {},
     "output_type": "execute_result"
    }
   ],
   "source": [
    "bcounts = np.bincount(b)\n",
    "# hist, _ = np.histogram(a, range=(0, max(a)), bins=int(max(a)) + 1)\n",
    "hist, _ = np.histogram(b, range=(0, max(b)), bins=20)\n",
    "\n",
    "dict(zip(np.unique(b), bcounts[bcounts.nonzero()]))"
   ]
  },
  {
   "cell_type": "code",
   "execution_count": 15,
   "metadata": {},
   "outputs": [
    {
     "data": {
      "text/plain": [
       "(0.0, 30.0)"
      ]
     },
     "execution_count": 15,
     "metadata": {},
     "output_type": "execute_result"
    },
    {
     "data": {
      "image/png": "[encoded data removed]",
      "text/plain": [
       "<Figure size 432x288 with 1 Axes>"
      ]
     },
     "metadata": {},
     "output_type": "display_data"
    }
   ],
   "source": [
    "n, bins, patches = plt.hist(x=b, bins='auto', color='#0504aa', alpha=0.7, rwidth=0.85)\n",
    "# n, bins, patches = plt.hist(x=b, bins=20, color='#0504aa', alpha=0.7, rwidth=0.85)\n",
    "plt.grid(axis='y', alpha=0.75)\n",
    "plt.xlabel('Value')\n",
    "plt.ylabel('Frequency')\n",
    "plt.title('My Very Own Histogram')\n",
    "plt.text(23, 45, r'$\\mu=15, b=3$')\n",
    "maxfreq = n.max()\n",
    "plt.ylim(ymax=np.ceil(maxfreq / 10) * 10 if maxfreq % 10 else maxfreq + 10)"
   ]
  },
  {
   "cell_type": "code",
   "execution_count": 16,
   "metadata": {},
   "outputs": [
    {
     "name": "stdout",
     "output_type": "stream",
     "text": [
      "Time spent for decoding msgs\n"
     ]
    }
   ],
   "source": [
    "print(\"Time spent for decoding msgs\")"
   ]
  },
  {
   "cell_type": "code",
   "execution_count": 20,
   "metadata": {},
   "outputs": [
    {
     "ename": "IndexError",
     "evalue": "list index out of range",
     "output_type": "error",
     "traceback": [
      "\u001b[0;31m---------------------------------------------------------------------------\u001b[0m",
      "\u001b[0;31mIndexError\u001b[0m                                Traceback (most recent call last)",
      "\u001b[0;32m<ipython-input-20-374ea8eaaa18>\u001b[0m in \u001b[0;36m<module>\u001b[0;34m()\u001b[0m\n\u001b[1;32m      3\u001b[0m \u001b[0;32mwith\u001b[0m \u001b[0mopen\u001b[0m\u001b[0;34m(\u001b[0m\u001b[0;34m'decoding.txt'\u001b[0m\u001b[0;34m)\u001b[0m \u001b[0;32mas\u001b[0m \u001b[0mf\u001b[0m\u001b[0;34m:\u001b[0m\u001b[0;34m\u001b[0m\u001b[0m\n\u001b[1;32m      4\u001b[0m     \u001b[0;32mfor\u001b[0m \u001b[0mline\u001b[0m \u001b[0;32min\u001b[0m \u001b[0mf\u001b[0m\u001b[0;34m:\u001b[0m\u001b[0;34m\u001b[0m\u001b[0m\n\u001b[0;32m----> 5\u001b[0;31m         \u001b[0mtime\u001b[0m \u001b[0;34m=\u001b[0m \u001b[0mfloat\u001b[0m\u001b[0;34m(\u001b[0m\u001b[0mline\u001b[0m\u001b[0;34m.\u001b[0m\u001b[0msplit\u001b[0m\u001b[0;34m(\u001b[0m\u001b[0mdelimiter\u001b[0m\u001b[0;34m)\u001b[0m\u001b[0;34m[\u001b[0m\u001b[0;36m4\u001b[0m\u001b[0;34m]\u001b[0m\u001b[0;34m)\u001b[0m\u001b[0;34m\u001b[0m\u001b[0m\n\u001b[0m\u001b[1;32m      6\u001b[0m         \u001b[0mc\u001b[0m\u001b[0;34m.\u001b[0m\u001b[0mappend\u001b[0m\u001b[0;34m(\u001b[0m\u001b[0mtime\u001b[0m\u001b[0;34m)\u001b[0m\u001b[0;34m\u001b[0m\u001b[0m\n",
      "\u001b[0;31mIndexError\u001b[0m: list index out of range"
     ]
    }
   ],
   "source": [
    "c = []\n",
    "delimiter = \" \"\n",
    "with open('decoding.txt') as f:  \n",
    "    for line in f:\n",
    "        time = float(line.split(delimiter)[4])\n",
    "        c.append(time)"
   ]
  },
  {
   "cell_type": "code",
   "execution_count": 21,
   "metadata": {},
   "outputs": [],
   "source": [
    "hist, bin_edges = np.histogram(c)"
   ]
  },
  {
   "cell_type": "code",
   "execution_count": 22,
   "metadata": {},
   "outputs": [
    {
     "data": {
      "text/plain": [
       "array([ 10.927969 ,  35.7193918,  60.5108146,  85.3022374, 110.0936602,\n",
       "       134.885083 , 159.6765058, 184.4679286, 209.2593514, 234.0507742,\n",
       "       258.842197 ])"
      ]
     },
     "execution_count": 22,
     "metadata": {},
     "output_type": "execute_result"
    }
   ],
   "source": [
    "first_edge, last_edge = min(c), max(c)\n",
    "n_equal_bins = 10\n",
    "bin_edges = np.linspace(start=first_edge, stop=last_edge,num=n_equal_bins + 1, endpoint=True)\n",
    "bin_edges"
   ]
  },
  {
   "cell_type": "code",
   "execution_count": 23,
   "metadata": {},
   "outputs": [
    {
     "data": {
      "text/plain": [
       "{10.927969: 1,\n",
       " 11.25875: 2,\n",
       " 11.497908: 2,\n",
       " 14.065511: 2,\n",
       " 14.745106: 1,\n",
       " 19.2573: 1,\n",
       " 19.684387: 1,\n",
       " 21.422649: 2,\n",
       " 22.774551: 1,\n",
       " 24.061989: 1,\n",
       " 25.235122: 1,\n",
       " 25.740927: 1,\n",
       " 27.52452: 1,\n",
       " 28.924757: 1,\n",
       " 29.538988: 1,\n",
       " 30.676589: 1,\n",
       " 35.495413: 2,\n",
       " 40.236982: 1,\n",
       " 42.74871: 1,\n",
       " 43.080268: 2,\n",
       " 44.579481: 1,\n",
       " 44.776544: 1,\n",
       " 46.298017: 2,\n",
       " 49.863733: 2,\n",
       " 51.611652: 1,\n",
       " 51.645372: 2,\n",
       " 52.999247: 3,\n",
       " 55.948441: 1,\n",
       " 56.350658: 1,\n",
       " 56.693208: 2,\n",
       " 64.264017: 2,\n",
       " 64.729107: 1,\n",
       " 70.199845: 1,\n",
       " 87.313211: 1,\n",
       " 87.971518: 1,\n",
       " 90.19374: 1,\n",
       " 90.255804: 1,\n",
       " 90.497296: 1,\n",
       " 94.664122: 1,\n",
       " 98.08707: 1,\n",
       " 109.555229: 1}"
      ]
     },
     "execution_count": 23,
     "metadata": {},
     "output_type": "execute_result"
    }
   ],
   "source": [
    "bcounts = np.bincount(c)\n",
    "# hist, _ = np.histogram(a, range=(0, max(a)), bins=int(max(a)) + 1)\n",
    "hist, _ = np.histogram(c, range=(0, max(c)), bins=20)\n",
    "\n",
    "dict(zip(np.unique(c), bcounts[bcounts.nonzero()]))"
   ]
  },
  {
   "cell_type": "code",
   "execution_count": 24,
   "metadata": {},
   "outputs": [
    {
     "data": {
      "text/plain": [
       "(0.0, 30.0)"
      ]
     },
     "execution_count": 24,
     "metadata": {},
     "output_type": "execute_result"
    },
    {
     "data": {
      "image/png": "[encoded data removed]",
      "text/plain": [
       "<Figure size 432x288 with 1 Axes>"
      ]
     },
     "metadata": {},
     "output_type": "display_data"
    }
   ],
   "source": [
    "n, bins, patches = plt.hist(x=c, bins='auto', color='#0504aa', alpha=0.7, rwidth=0.85)\n",
    "# n, bins, patches = plt.hist(x=b, bins=20, color='#0504aa', alpha=0.7, rwidth=0.85)\n",
    "plt.grid(axis='y', alpha=0.75)\n",
    "plt.xlabel('Value')\n",
    "plt.ylabel('Frequency')\n",
    "plt.title('My Very Own Histogram')\n",
    "plt.text(23, 45, r'$\\mu=15, b=3$')\n",
    "maxfreq = n.max()\n",
    "plt.ylim(ymax=np.ceil(maxfreq / 10) * 10 if maxfreq % 10 else maxfreq + 10)"
   ]
  },
  {
   "cell_type": "code",
   "execution_count": 25,
   "metadata": {},
   "outputs": [
    {
     "name": "stdout",
     "output_type": "stream",
     "text": [
      "Time spent waiting for 16 workers\n"
     ]
    }
   ],
   "source": [
    "print(\"Time spent waiting for 16 workers\")"
   ]
  },
  {
   "cell_type": "code",
   "execution_count": 26,
   "metadata": {},
   "outputs": [],
   "source": [
    "d = []\n",
    "delimiter = \" \"\n",
    "with open('waiting.txt') as f:  \n",
    "    for line in f:\n",
    "        time = float(line.split(delimiter)[8])\n",
    "        d.append(time)"
   ]
  },
  {
   "cell_type": "code",
   "execution_count": 27,
   "metadata": {},
   "outputs": [],
   "source": [
    "hist, bin_edges = np.histogram(d)"
   ]
  },
  {
   "cell_type": "code",
   "execution_count": 28,
   "metadata": {},
   "outputs": [
    {
     "data": {
      "text/plain": [
       "array([389.068227, 434.467726, 479.867225, 525.266724, 570.666223,\n",
       "       616.065722, 661.465221, 706.86472 , 752.264219, 797.663718,\n",
       "       843.063217])"
      ]
     },
     "execution_count": 28,
     "metadata": {},
     "output_type": "execute_result"
    }
   ],
   "source": [
    "first_edge, last_edge = min(d), max(d)\n",
    "n_equal_bins = 10\n",
    "bin_edges = np.linspace(start=first_edge, stop=last_edge,num=n_equal_bins + 1, endpoint=True)\n",
    "bin_edges"
   ]
  },
  {
   "cell_type": "code",
   "execution_count": 29,
   "metadata": {},
   "outputs": [
    {
     "data": {
      "text/plain": [
       "{389.068227: 1,\n",
       " 391.009858: 1,\n",
       " 394.177908: 1,\n",
       " 412.163395: 2,\n",
       " 412.438076: 1,\n",
       " 416.124809: 1,\n",
       " 419.811053: 1,\n",
       " 433.108106: 1,\n",
       " 434.243976: 2,\n",
       " 442.477643: 1,\n",
       " 442.667308: 1,\n",
       " 445.89893: 1,\n",
       " 454.626223: 1,\n",
       " 457.429856: 1,\n",
       " 467.713144: 1,\n",
       " 468.620989: 1,\n",
       " 474.55232: 2,\n",
       " 476.803786: 1,\n",
       " 478.477906: 2,\n",
       " 478.823009: 3,\n",
       " 479.613787: 1,\n",
       " 487.211962: 1,\n",
       " 487.924251: 1,\n",
       " 490.55111: 2,\n",
       " 490.699779: 1,\n",
       " 490.885664: 1,\n",
       " 491.718938: 1,\n",
       " 492.269695: 1,\n",
       " 496.074807: 1,\n",
       " 500.23027: 2,\n",
       " 500.546115: 1,\n",
       " 506.371783: 1,\n",
       " 509.606943: 1,\n",
       " 510.60996: 2,\n",
       " 511.918233: 1,\n",
       " 512.033728: 1,\n",
       " 528.624697: 1,\n",
       " 528.627511: 1,\n",
       " 531.870023: 1,\n",
       " 534.784968: 1,\n",
       " 536.335921: 1,\n",
       " 537.424375: 1,\n",
       " 537.850175: 1,\n",
       " 546.088729: 1,\n",
       " 548.531549: 1}"
      ]
     },
     "execution_count": 29,
     "metadata": {},
     "output_type": "execute_result"
    }
   ],
   "source": [
    "bcounts = np.bincount(d)\n",
    "# hist, _ = np.histogram(a, range=(0, max(a)), bins=int(max(a)) + 1)\n",
    "hist, _ = np.histogram(d, range=(0, max(d)), bins=20)\n",
    "\n",
    "dict(zip(np.unique(d), bcounts[bcounts.nonzero()]))"
   ]
  },
  {
   "cell_type": "code",
   "execution_count": 30,
   "metadata": {},
   "outputs": [
    {
     "data": {
      "text/plain": [
       "(0.0, 20.0)"
      ]
     },
     "execution_count": 30,
     "metadata": {},
     "output_type": "execute_result"
    },
    {
     "data": {
      "image/png": "[encoded data removed]",
      "text/plain": [
       "<Figure size 432x288 with 1 Axes>"
      ]
     },
     "metadata": {},
     "output_type": "display_data"
    }
   ],
   "source": [
    "n, bins, patches = plt.hist(x=d, bins='auto', color='#0504aa', alpha=0.7, rwidth=0.85)\n",
    "# n, bins, patches = plt.hist(x=b, bins=20, color='#0504aa', alpha=0.7, rwidth=0.85)\n",
    "plt.grid(axis='y', alpha=0.75)\n",
    "plt.xlabel('Value')\n",
    "plt.ylabel('Frequency')\n",
    "plt.title('My Very Own Histogram')\n",
    "plt.text(23, 45, r'$\\mu=15, b=3$')\n",
    "maxfreq = n.max()\n",
    "plt.ylim(ymax=np.ceil(maxfreq / 10) * 10 if maxfreq % 10 else maxfreq + 10)"
   ]
  },
  {
   "cell_type": "code",
   "execution_count": null,
   "metadata": {},
   "outputs": [],
   "source": []
  }
 ],
 "metadata": {
  "kernelspec": {
   "display_name": "Python 3",
   "language": "python",
   "name": "python3"
  },
  "language_info": {
   "codemirror_mode": {
    "name": "ipython",
    "version": 3
   },
   "file_extension": ".py",
   "mimetype": "text/x-python",
   "name": "python",
   "nbconvert_exporter": "python",
   "pygments_lexer": "ipython3",
   "version": "3.6.6"
  }
 },
 "nbformat": 4,
 "nbformat_minor": 2
}
